{
  "nbformat": 4,
  "nbformat_minor": 0,
  "metadata": {
    "colab": {
      "provenance": []
    },
    "kernelspec": {
      "name": "python3",
      "display_name": "Python 3"
    },
    "language_info": {
      "name": "python"
    }
  },
  "cells": [
    {
      "cell_type": "code",
      "execution_count": null,
      "metadata": {
        "id": "bSe_BZ6OqDYU"
      },
      "outputs": [],
      "source": [
        "import pandas as pd\n",
        "import numpy as np\n",
        "from sklearn.preprocessing import StandardScaler, LabelEncoder\n",
        "from sklearn.impute import SimpleImputer\n",
        "\n",
        "# 최적화된 상태의 데이터\n",
        "optimized_data = pd.DataFrame(columns=combined_data.columns)\n",
        "optimized_data.loc[0] = [0 for _ in range(len(combined_data.columns))]\n",
        "\n",
        "for i, col in enumerate(features[:16]):\n",
        "  if optimized_data.dtypes[i] == 'int64':\n",
        "    optimized_data.loc[0, col] = int(optimized_params[i])\n",
        "  else:\n",
        "     optimized_data.loc[0, col] = optimized_params[i]\n",
        "optimized_data['Efficiency (Instantaneous)'] = optimized_efficiency\n",
        "\n",
        "\n",
        "# 데이터 스케일링 및 레이블 인코딩\n",
        "\n",
        "# 1. 역 스케일링 (StandardScaler를 사용한 스케일링 복구)\n",
        "# 숫자형 열에 대해 StandardScaler로 스케일링된 값을 원래 값으로 복구\n",
        "optimized_data[numeric_columns] = scaler.inverse_transform(optimized_data[numeric_columns][numeric_columns].values)\n",
        "\n",
        "#2. 역 레이블 인코딩 (LabelEncoder를 사용한 범주형 데이터 복구)\n",
        "# 범주형 열들을 레이블 인코딩 이전의 원래 값으로 복구\n",
        "for column in combined_data.select_dtypes(include=['object']).columns:\n",
        "    optimized_data[column] = label_encoder.inverse_transform(optimized_data[column])\n",
        "\n",
        "#복구된 데이터 확인\n",
        "\n",
        "print(optimized_data.head())"
      ]
    }
  ]
}