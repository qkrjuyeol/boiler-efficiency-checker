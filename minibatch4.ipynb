{
  "nbformat": 4,
  "nbformat_minor": 0,
  "metadata": {
    "colab": {
      "provenance": [],
      "machine_shape": "hm",
      "gpuType": "V28"
    },
    "kernelspec": {
      "name": "python3",
      "display_name": "Python 3"
    },
    "language_info": {
      "name": "python"
    },
    "accelerator": "TPU"
  },
  "cells": [
    {
      "cell_type": "code",
      "execution_count": 22,
      "metadata": {
        "colab": {
          "base_uri": "https://localhost:8080/"
        },
        "id": "HL7QeZA8Ju4h",
        "outputId": "8a52c12a-a575-4875-857f-e604b5153a0f"
      },
      "outputs": [
        {
          "output_type": "stream",
          "name": "stdout",
          "text": [
            "Drive already mounted at /content/drive; to attempt to forcibly remount, call drive.mount(\"/content/drive\", force_remount=True).\n",
            "MAPE: 7.9818\n",
            "MAE: 0.0207\n",
            "RMSE: 0.0473\n",
            "MSE: 0.0022\n"
          ]
        }
      ],
      "source": [
        "import tensorflow as tf\n",
        "from sklearn.utils import shuffle\n",
        "import pandas as pd\n",
        "import numpy as np\n",
        "from sklearn.ensemble import RandomForestRegressor\n",
        "from sklearn.model_selection import train_test_split\n",
        "from sklearn.metrics import mean_absolute_percentage_error, mean_absolute_error, mean_squared_error\n",
        "from sklearn.preprocessing import StandardScaler\n",
        "from google.colab import drive\n",
        "drive.mount('/content/drive')\n",
        "\n",
        "# 전처리된 데이터 불러오기\n",
        "data = pd.read_csv('/content/drive/MyDrive/preprocessed_boiler_data.csv')\n",
        "\n",
        "# 독립 변수(X)와 종속 변수(y) 설정\n",
        "X = data.drop(columns=['Efficiency (Instantaneous)'])\n",
        "y = data['Efficiency (Instantaneous)']\n",
        "\n",
        "# Initialize StandardScaler\n",
        "scaler = StandardScaler() # Create a StandardScaler object\n",
        "X = scaler.fit_transform(X) # Fit and transform the data\n",
        "\n",
        "# 데이터 분할\n",
        "X_train, X_test, y_train, y_test = train_test_split(X, y, test_size=0.2, random_state=42)\n",
        "\n",
        "# 최적 하이퍼파라미터 적용하여 랜덤 포레스트 모델 학습\n",
        "best_params = {'n_estimators': 50, 'min_weight_fraction_leaf': 0.0, 'min_samples_split': 5,\n",
        "               'min_samples_leaf': 1, 'max_features': 'sqrt', 'max_depth': 25}\n",
        "model = RandomForestRegressor(**best_params, random_state=42)\n",
        "model.fit(X_train, y_train)\n",
        "\n",
        "# 모델 평가\n",
        "y_pred = model.predict(X_test)\n",
        "mape = mean_absolute_percentage_error(y_test, y_pred) * 100\n",
        "mae = mean_absolute_error(y_test, y_pred)\n",
        "rmse = np.sqrt(mean_squared_error(y_test, y_pred))\n",
        "mse = mean_squared_error(y_test, y_pred)\n",
        "\n",
        "print(f\"MAPE: {mape:.4f}\")\n",
        "print(f\"MAE: {mae:.4f}\")\n",
        "print(f\"RMSE: {rmse:.4f}\")\n",
        "print(f\"MSE: {mse:.4f}\")\n"
      ]
    },
    {
      "cell_type": "code",
      "source": [
        "import tensorflow as tf\n",
        "import numpy as np\n",
        "from sklearn.utils import shuffle\n",
        "\n",
        "# 데이터 준비\n",
        "X, y = shuffle(X, y, random_state=42)\n",
        "y = y.values.reshape(-1, 1)\n",
        "\n",
        "# 목표 변수(y)를 원래 StandardScaler로 스케일링\n",
        "scaler_y = StandardScaler()\n",
        "y_scaled = scaler_y.fit_transform(y)\n",
        "\n",
        "# 신경망 모델 정의\n",
        "model_dl = tf.keras.Sequential([\n",
        "    tf.keras.layers.Dense(64, activation='relu', input_shape=(X.shape[1],)),\n",
        "    tf.keras.layers.Dense(32, activation='relu'),\n",
        "    tf.keras.layers.Dense(1)  # 보일러 효율 예측\n",
        "])\n",
        "\n",
        "model_dl.compile(optimizer=tf.keras.optimizers.Adam(learning_rate=0.001),\n",
        "                 loss='mse', metrics=['mse', 'mae'])\n",
        "\n",
        "# 미니배치 학습\n",
        "batch_size = 32\n",
        "epochs = 3\n",
        "\n",
        "history = model_dl.fit(X, y, batch_size=batch_size, epochs=epochs, validation_split=0.2, verbose=1)\n",
        "\n",
        "# 최종 성능 평가\n",
        "loss, mse, mae = model_dl.evaluate(X_test, y_test)\n",
        "print(f\"최종 MSE: {mse:.4f}\")\n",
        "print(f\"최종 MAE: {mae:.4f}\")\n",
        "\n",
        "# 최적화 모델의 예측값 계산 및 원래 범위로 역변환\n",
        "predicted_efficiency = model_dl.predict(X)\n",
        "predicted_efficiency_original = scaler_y.inverse_transform(predicted_efficiency)\n",
        "\n",
        "# 최적화된 보일러 효율값 계산 (역변환된 예측값의 평균)\n",
        "optimized_efficiency = np.mean(predicted_efficiency_original)\n",
        "print(f\"최적화된 보일러 효율: {optimized_efficiency:.2f}%\")"
      ],
      "metadata": {
        "colab": {
          "base_uri": "https://localhost:8080/"
        },
        "id": "d1WVJioqT9JI",
        "outputId": "e92e93ef-4f2a-4f57-e667-814cf1fb11e3"
      },
      "execution_count": 23,
      "outputs": [
        {
          "output_type": "stream",
          "name": "stdout",
          "text": [
            "Epoch 1/3\n",
            "70009/70009 [==============================] - 133s 2ms/step - loss: 0.0061 - mse: 0.0061 - mae: 0.0407 - val_loss: 0.0043 - val_mse: 0.0043 - val_mae: 0.0334\n",
            "Epoch 2/3\n",
            "70009/70009 [==============================] - 129s 2ms/step - loss: 0.0044 - mse: 0.0044 - mae: 0.0346 - val_loss: 0.0042 - val_mse: 0.0042 - val_mae: 0.0323\n",
            "Epoch 3/3\n",
            "70009/70009 [==============================] - 127s 2ms/step - loss: 0.0042 - mse: 0.0042 - mae: 0.0337 - val_loss: 0.0039 - val_mse: 0.0039 - val_mae: 0.0326\n",
            "17503/17503 [==============================] - 22s 1ms/step - loss: 0.0040 - mse: 0.0040 - mae: 0.0326\n",
            "최종 MSE: 0.0040\n",
            "최종 MAE: 0.0326\n",
            "87512/87512 [==============================] - 101s 1ms/step\n",
            "최적화된 보일러 효율: -0.00%\n"
          ]
        }
      ]
    }
  ]
}